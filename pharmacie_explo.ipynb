{
 "cells": [
  {
   "cell_type": "code",
   "execution_count": 21,
   "id": "86edc5a1",
   "metadata": {},
   "outputs": [
    {
     "name": "stdout",
     "output_type": "stream",
     "text": [
      "IndirectObject(513, 0, 140484091508192)\n"
     ]
    },
    {
     "ename": "AttributeError",
     "evalue": "'IndirectObject' object has no attribute 'get'",
     "output_type": "error",
     "traceback": [
      "\u001b[0;31m---------------------------------------------------------------------------\u001b[0m",
      "\u001b[0;31mAttributeError\u001b[0m                            Traceback (most recent call last)",
      "\u001b[0;32m/var/folders/lj/tfygmqcs4fv1v6yhgm9mj62w0000gn/T/ipykernel_1948/1153714170.py\u001b[0m in \u001b[0;36m<module>\u001b[0;34m\u001b[0m\n\u001b[1;32m     15\u001b[0m             \u001b[0;32mfor\u001b[0m \u001b[0mannotation\u001b[0m \u001b[0;32min\u001b[0m \u001b[0mpage\u001b[0m\u001b[0;34m[\u001b[0m\u001b[0;34m'/Annots'\u001b[0m\u001b[0;34m]\u001b[0m\u001b[0;34m:\u001b[0m\u001b[0;34m\u001b[0m\u001b[0;34m\u001b[0m\u001b[0m\n\u001b[1;32m     16\u001b[0m                 \u001b[0mprint\u001b[0m\u001b[0;34m(\u001b[0m\u001b[0mannotation\u001b[0m\u001b[0;34m)\u001b[0m\u001b[0;34m\u001b[0m\u001b[0;34m\u001b[0m\u001b[0m\n\u001b[0;32m---> 17\u001b[0;31m                 \u001b[0;32mif\u001b[0m \u001b[0mannotation\u001b[0m\u001b[0;34m.\u001b[0m\u001b[0mget\u001b[0m\u001b[0;34m(\u001b[0m\u001b[0;34m'/T'\u001b[0m\u001b[0;34m)\u001b[0m \u001b[0;34m==\u001b[0m \u001b[0;34m'/Champ de texte 16'\u001b[0m\u001b[0;34m:\u001b[0m  \u001b[0;31m# Remplacez '/Nom' par le nom du champ dans votre PDF\u001b[0m\u001b[0;34m\u001b[0m\u001b[0;34m\u001b[0m\u001b[0m\n\u001b[0m\u001b[1;32m     18\u001b[0m                     annotation.update({\n\u001b[1;32m     19\u001b[0m                         \u001b[0mPyPDF2\u001b[0m\u001b[0;34m.\u001b[0m\u001b[0mPdfName\u001b[0m\u001b[0;34m(\u001b[0m\u001b[0;34m'/V'\u001b[0m\u001b[0;34m)\u001b[0m\u001b[0;34m:\u001b[0m \u001b[0mPyPDF2\u001b[0m\u001b[0;34m.\u001b[0m\u001b[0mPdfObject\u001b[0m\u001b[0;34m(\u001b[0m\u001b[0mNom\u001b[0m\u001b[0;34m)\u001b[0m  \u001b[0;31m# Remplacez 'Nom' par votre valeur\u001b[0m\u001b[0;34m\u001b[0m\u001b[0;34m\u001b[0m\u001b[0m\n",
      "\u001b[0;31mAttributeError\u001b[0m: 'IndirectObject' object has no attribute 'get'"
     ]
    }
   ],
   "source": [
    "import PyPDF2\n",
    "\n",
    "Nom = 'caca'\n",
    "# Ouvrir le PDF source\n",
    "with open(\"docs/TROD-ANGINE_Fiche_tracabilite_pharmacien.pdf\", \"rb\") as pdf_source:\n",
    "    pdf_reader = PyPDF2.PdfReader(pdf_source)\n",
    "    pdf_writer = PyPDF2.PdfWriter()\n",
    "\n",
    "    # Copier chaque page du PDF source dans le PDF de destination\n",
    "    for page_num in range(len(pdf_reader.pages)):\n",
    "        page = pdf_reader.pages[page_num]\n",
    "        \n",
    "        # Modifier le champ de formulaire 'Nom' avec votre valeur\n",
    "        if '/Annots' in page:\n",
    "            for annotation in page['/Annots']:\n",
    "                print(annotation)\n",
    "                if annotation.get('/T') == '/Champ de texte 16':  # Remplacez '/Nom' par le nom du champ dans votre PDF\n",
    "                    annotation.update({\n",
    "                        PyPDF2.PdfName('/V'): PyPDF2.PdfObject(Nom)  # Remplacez 'Nom' par votre valeur\n",
    "                    })\n",
    "        \n",
    "        pdf_writer.add_page(page)\n",
    "\n",
    "    # Écrire le PDF final dans un nouveau fichier\n",
    "    #with open(\"votre_pdf_rempli.pdf\", \"wb\") as pdf_output:\n",
    "        #pdf_writer.write(pdf_output)\n"
   ]
  },
  {
   "cell_type": "code",
   "execution_count": 15,
   "id": "c21be9e2",
   "metadata": {},
   "outputs": [
    {
     "name": "stdout",
     "output_type": "stream",
     "text": [
      "Nom du champ de formulaire : Champ de texte 16\n",
      "Nom du champ de formulaire : professionnel\n",
      "Nom du champ de formulaire : date et heure\n",
      "Nom du champ de formulaire : date validation procedure\n",
      "Nom du champ de formulaire : nom du test\n",
      "Nom du champ de formulaire : num lot trod\n",
      "Nom du champ de formulaire : date peremption\n",
      "Nom du champ de formulaire : model d ecouvillon\n",
      "Nom du champ de formulaire : controles internes\n",
      "Nom du champ de formulaire : controles externes\n",
      "Nom du champ de formulaire : age patient\n",
      "Nom du champ de formulaire : nom patient\n",
      "Nom du champ de formulaire : date validation procedure 2\n",
      "Nom du champ de formulaire : mac isaac 1\n",
      "Nom du champ de formulaire : mac isaac 2\n",
      "Nom du champ de formulaire : mac isaac 3\n",
      "Nom du champ de formulaire : mac isaac 4\n",
      "Nom du champ de formulaire : mac isaac 5\n",
      "Nom du champ de formulaire : mac isaac 6\n",
      "Nom du champ de formulaire : mac isaac total\n"
     ]
    }
   ],
   "source": [
    "with open(\"docs/TROD-ANGINE_Fiche_tracabilite_pharmacien.pdf\", \"rb\") as pdf_source:\n",
    "    pdf_reader = PyPDF2.PdfReader(pdf_source)\n",
    "    pdf_writer = PyPDF2.PdfWriter()\n",
    "    # Obtenir le formulaire PDF\n",
    "    pdf_form = pdf_reader.get_form_text_fields()\n",
    "\n",
    "    # Afficher les noms des champs de formulaire\n",
    "    for field_name in pdf_form:\n",
    "        print(\"Nom du champ de formulaire :\", field_name)"
   ]
  },
  {
   "cell_type": "code",
   "execution_count": 45,
   "id": "fae730ac",
   "metadata": {},
   "outputs": [
    {
     "ename": "ValueError",
     "evalue": "value must be PdfObject",
     "output_type": "error",
     "traceback": [
      "\u001b[0;31m---------------------------------------------------------------------------\u001b[0m",
      "\u001b[0;31mValueError\u001b[0m                                Traceback (most recent call last)",
      "\u001b[0;32m/var/folders/lj/tfygmqcs4fv1v6yhgm9mj62w0000gn/T/ipykernel_1948/2946071996.py\u001b[0m in \u001b[0;36m<module>\u001b[0;34m\u001b[0m\n\u001b[1;32m     29\u001b[0m                             })\n\u001b[1;32m     30\u001b[0m \u001b[0;34m\u001b[0m\u001b[0m\n\u001b[0;32m---> 31\u001b[0;31m         \u001b[0mpdf_writer\u001b[0m\u001b[0;34m.\u001b[0m\u001b[0madd_page\u001b[0m\u001b[0;34m(\u001b[0m\u001b[0mpage\u001b[0m\u001b[0;34m)\u001b[0m\u001b[0;34m\u001b[0m\u001b[0;34m\u001b[0m\u001b[0m\n\u001b[0m\u001b[1;32m     32\u001b[0m \u001b[0;34m\u001b[0m\u001b[0m\n\u001b[1;32m     33\u001b[0m     \u001b[0;31m# Enregistrez le PDF modifié dans un nouveau fichier\u001b[0m\u001b[0;34m\u001b[0m\u001b[0;34m\u001b[0m\u001b[0m\n",
      "\u001b[0;32m~/opt/anaconda3/lib/python3.9/site-packages/PyPDF2/_writer.py\u001b[0m in \u001b[0;36madd_page\u001b[0;34m(self, page, excluded_keys)\u001b[0m\n\u001b[1;32m    319\u001b[0m             \u001b[0man\u001b[0m \u001b[0minstance\u001b[0m \u001b[0mof\u001b[0m \u001b[0;34m:\u001b[0m\u001b[0;32mclass\u001b[0m\u001b[0;34m:\u001b[0m\u001b[0;31m`\u001b[0m\u001b[0mPageObject\u001b[0m\u001b[0;34m<\u001b[0m\u001b[0mPyPDF2\u001b[0m\u001b[0;34m.\u001b[0m\u001b[0m_page\u001b[0m\u001b[0;34m.\u001b[0m\u001b[0mPageObject\u001b[0m\u001b[0;34m>\u001b[0m\u001b[0;31m`\u001b[0m\u001b[0;34m\u001b[0m\u001b[0;34m\u001b[0m\u001b[0m\n\u001b[1;32m    320\u001b[0m         \"\"\"\n\u001b[0;32m--> 321\u001b[0;31m         \u001b[0;32mreturn\u001b[0m \u001b[0mself\u001b[0m\u001b[0;34m.\u001b[0m\u001b[0m_add_page\u001b[0m\u001b[0;34m(\u001b[0m\u001b[0mpage\u001b[0m\u001b[0;34m,\u001b[0m \u001b[0mlist\u001b[0m\u001b[0;34m.\u001b[0m\u001b[0mappend\u001b[0m\u001b[0;34m,\u001b[0m \u001b[0mexcluded_keys\u001b[0m\u001b[0;34m)\u001b[0m\u001b[0;34m\u001b[0m\u001b[0;34m\u001b[0m\u001b[0m\n\u001b[0m\u001b[1;32m    322\u001b[0m \u001b[0;34m\u001b[0m\u001b[0m\n\u001b[1;32m    323\u001b[0m     def addPage(\n",
      "\u001b[0;32m~/opt/anaconda3/lib/python3.9/site-packages/PyPDF2/_writer.py\u001b[0m in \u001b[0;36m_add_page\u001b[0;34m(self, page, action, excluded_keys)\u001b[0m\n\u001b[1;32m    269\u001b[0m         \u001b[0;32mexcept\u001b[0m \u001b[0mException\u001b[0m\u001b[0;34m:\u001b[0m\u001b[0;34m\u001b[0m\u001b[0;34m\u001b[0m\u001b[0m\n\u001b[1;32m    270\u001b[0m             \u001b[0;32mpass\u001b[0m\u001b[0;34m\u001b[0m\u001b[0;34m\u001b[0m\u001b[0m\n\u001b[0;32m--> 271\u001b[0;31m         \u001b[0mpage\u001b[0m \u001b[0;34m=\u001b[0m \u001b[0mcast\u001b[0m\u001b[0;34m(\u001b[0m\u001b[0;34m\"PageObject\"\u001b[0m\u001b[0;34m,\u001b[0m \u001b[0mpage_org\u001b[0m\u001b[0;34m.\u001b[0m\u001b[0mclone\u001b[0m\u001b[0;34m(\u001b[0m\u001b[0mself\u001b[0m\u001b[0;34m,\u001b[0m \u001b[0;32mFalse\u001b[0m\u001b[0;34m,\u001b[0m \u001b[0mexcluded_keys\u001b[0m\u001b[0;34m)\u001b[0m\u001b[0;34m)\u001b[0m\u001b[0;34m\u001b[0m\u001b[0;34m\u001b[0m\u001b[0m\n\u001b[0m\u001b[1;32m    272\u001b[0m         \u001b[0;31m# page_ind = self._add_object(page)\u001b[0m\u001b[0;34m\u001b[0m\u001b[0;34m\u001b[0m\u001b[0m\n\u001b[1;32m    273\u001b[0m         \u001b[0;32mif\u001b[0m \u001b[0mpage_org\u001b[0m\u001b[0;34m.\u001b[0m\u001b[0mpdf\u001b[0m \u001b[0;32mis\u001b[0m \u001b[0;32mnot\u001b[0m \u001b[0;32mNone\u001b[0m\u001b[0;34m:\u001b[0m\u001b[0;34m\u001b[0m\u001b[0;34m\u001b[0m\u001b[0m\n",
      "\u001b[0;32m~/opt/anaconda3/lib/python3.9/site-packages/PyPDF2/generic/_data_structures.py\u001b[0m in \u001b[0;36mclone\u001b[0;34m(self, pdf_dest, force_duplicate, ignore_fields)\u001b[0m\n\u001b[1;32m    179\u001b[0m             \u001b[0mignore_fields\u001b[0m \u001b[0;34m=\u001b[0m \u001b[0;34m[\u001b[0m\u001b[0;34m]\u001b[0m\u001b[0;34m\u001b[0m\u001b[0;34m\u001b[0m\u001b[0m\n\u001b[1;32m    180\u001b[0m         \u001b[0;32mif\u001b[0m \u001b[0mlen\u001b[0m\u001b[0;34m(\u001b[0m\u001b[0md__\u001b[0m\u001b[0;34m.\u001b[0m\u001b[0mkeys\u001b[0m\u001b[0;34m(\u001b[0m\u001b[0;34m)\u001b[0m\u001b[0;34m)\u001b[0m \u001b[0;34m==\u001b[0m \u001b[0;36m0\u001b[0m\u001b[0;34m:\u001b[0m\u001b[0;34m\u001b[0m\u001b[0;34m\u001b[0m\u001b[0m\n\u001b[0;32m--> 181\u001b[0;31m             \u001b[0md__\u001b[0m\u001b[0;34m.\u001b[0m\u001b[0m_clone\u001b[0m\u001b[0;34m(\u001b[0m\u001b[0mself\u001b[0m\u001b[0;34m,\u001b[0m \u001b[0mpdf_dest\u001b[0m\u001b[0;34m,\u001b[0m \u001b[0mforce_duplicate\u001b[0m\u001b[0;34m,\u001b[0m \u001b[0mignore_fields\u001b[0m\u001b[0;34m)\u001b[0m\u001b[0;34m\u001b[0m\u001b[0;34m\u001b[0m\u001b[0m\n\u001b[0m\u001b[1;32m    182\u001b[0m         \u001b[0;32mreturn\u001b[0m \u001b[0md__\u001b[0m\u001b[0;34m\u001b[0m\u001b[0;34m\u001b[0m\u001b[0m\n\u001b[1;32m    183\u001b[0m \u001b[0;34m\u001b[0m\u001b[0m\n",
      "\u001b[0;32m~/opt/anaconda3/lib/python3.9/site-packages/PyPDF2/generic/_data_structures.py\u001b[0m in \u001b[0;36m_clone\u001b[0;34m(self, src, pdf_dest, force_duplicate, ignore_fields)\u001b[0m\n\u001b[1;32m    241\u001b[0m                     \u001b[0;32mif\u001b[0m \u001b[0mk\u001b[0m \u001b[0;32mnot\u001b[0m \u001b[0;32min\u001b[0m \u001b[0mself\u001b[0m\u001b[0;34m:\u001b[0m\u001b[0;34m\u001b[0m\u001b[0;34m\u001b[0m\u001b[0m\n\u001b[1;32m    242\u001b[0m                         self[NameObject(k)] = (\n\u001b[0;32m--> 243\u001b[0;31m                             \u001b[0mv\u001b[0m\u001b[0;34m.\u001b[0m\u001b[0mclone\u001b[0m\u001b[0;34m(\u001b[0m\u001b[0mpdf_dest\u001b[0m\u001b[0;34m,\u001b[0m \u001b[0mforce_duplicate\u001b[0m\u001b[0;34m,\u001b[0m \u001b[0mignore_fields\u001b[0m\u001b[0;34m)\u001b[0m\u001b[0;34m\u001b[0m\u001b[0;34m\u001b[0m\u001b[0m\n\u001b[0m\u001b[1;32m    244\u001b[0m                             \u001b[0;32mif\u001b[0m \u001b[0mhasattr\u001b[0m\u001b[0;34m(\u001b[0m\u001b[0mv\u001b[0m\u001b[0;34m,\u001b[0m \u001b[0;34m\"clone\"\u001b[0m\u001b[0;34m)\u001b[0m\u001b[0;34m\u001b[0m\u001b[0;34m\u001b[0m\u001b[0m\n\u001b[1;32m    245\u001b[0m                             \u001b[0;32melse\u001b[0m \u001b[0mv\u001b[0m\u001b[0;34m\u001b[0m\u001b[0;34m\u001b[0m\u001b[0m\n",
      "\u001b[0;32m~/opt/anaconda3/lib/python3.9/site-packages/PyPDF2/generic/_base.py\u001b[0m in \u001b[0;36mclone\u001b[0;34m(self, pdf_dest, force_duplicate, ignore_fields)\u001b[0m\n\u001b[1;32m    247\u001b[0m             \u001b[0mobj\u001b[0m \u001b[0;34m=\u001b[0m \u001b[0mself\u001b[0m\u001b[0;34m.\u001b[0m\u001b[0mget_object\u001b[0m\u001b[0;34m(\u001b[0m\u001b[0;34m)\u001b[0m\u001b[0;34m\u001b[0m\u001b[0;34m\u001b[0m\u001b[0m\n\u001b[1;32m    248\u001b[0m             \u001b[0;32massert\u001b[0m \u001b[0mobj\u001b[0m \u001b[0;32mis\u001b[0m \u001b[0;32mnot\u001b[0m \u001b[0;32mNone\u001b[0m\u001b[0;34m\u001b[0m\u001b[0;34m\u001b[0m\u001b[0m\n\u001b[0;32m--> 249\u001b[0;31m             \u001b[0mdup\u001b[0m \u001b[0;34m=\u001b[0m \u001b[0mobj\u001b[0m\u001b[0;34m.\u001b[0m\u001b[0mclone\u001b[0m\u001b[0;34m(\u001b[0m\u001b[0mpdf_dest\u001b[0m\u001b[0;34m,\u001b[0m \u001b[0mforce_duplicate\u001b[0m\u001b[0;34m,\u001b[0m \u001b[0mignore_fields\u001b[0m\u001b[0;34m)\u001b[0m\u001b[0;34m\u001b[0m\u001b[0;34m\u001b[0m\u001b[0m\n\u001b[0m\u001b[1;32m    250\u001b[0m         \u001b[0;32massert\u001b[0m \u001b[0mdup\u001b[0m \u001b[0;32mis\u001b[0m \u001b[0;32mnot\u001b[0m \u001b[0;32mNone\u001b[0m\u001b[0;34m\u001b[0m\u001b[0;34m\u001b[0m\u001b[0m\n\u001b[1;32m    251\u001b[0m         \u001b[0;32massert\u001b[0m \u001b[0mdup\u001b[0m\u001b[0;34m.\u001b[0m\u001b[0mindirect_reference\u001b[0m \u001b[0;32mis\u001b[0m \u001b[0;32mnot\u001b[0m \u001b[0;32mNone\u001b[0m\u001b[0;34m\u001b[0m\u001b[0;34m\u001b[0m\u001b[0m\n",
      "\u001b[0;32m~/opt/anaconda3/lib/python3.9/site-packages/PyPDF2/generic/_data_structures.py\u001b[0m in \u001b[0;36mclone\u001b[0;34m(self, pdf_dest, force_duplicate, ignore_fields)\u001b[0m\n\u001b[1;32m     99\u001b[0m                 \u001b[0marr\u001b[0m\u001b[0;34m.\u001b[0m\u001b[0mappend\u001b[0m\u001b[0;34m(\u001b[0m\u001b[0mdup\u001b[0m\u001b[0;34m.\u001b[0m\u001b[0mindirect_reference\u001b[0m\u001b[0;34m)\u001b[0m\u001b[0;34m\u001b[0m\u001b[0;34m\u001b[0m\u001b[0m\n\u001b[1;32m    100\u001b[0m             \u001b[0;32melif\u001b[0m \u001b[0mhasattr\u001b[0m\u001b[0;34m(\u001b[0m\u001b[0mdata\u001b[0m\u001b[0;34m,\u001b[0m \u001b[0;34m\"clone\"\u001b[0m\u001b[0;34m)\u001b[0m\u001b[0;34m:\u001b[0m\u001b[0;34m\u001b[0m\u001b[0;34m\u001b[0m\u001b[0m\n\u001b[0;32m--> 101\u001b[0;31m                 \u001b[0marr\u001b[0m\u001b[0;34m.\u001b[0m\u001b[0mappend\u001b[0m\u001b[0;34m(\u001b[0m\u001b[0mdata\u001b[0m\u001b[0;34m.\u001b[0m\u001b[0mclone\u001b[0m\u001b[0;34m(\u001b[0m\u001b[0mpdf_dest\u001b[0m\u001b[0;34m,\u001b[0m \u001b[0mforce_duplicate\u001b[0m\u001b[0;34m,\u001b[0m \u001b[0mignore_fields\u001b[0m\u001b[0;34m)\u001b[0m\u001b[0;34m)\u001b[0m\u001b[0;34m\u001b[0m\u001b[0;34m\u001b[0m\u001b[0m\n\u001b[0m\u001b[1;32m    102\u001b[0m             \u001b[0;32melse\u001b[0m\u001b[0;34m:\u001b[0m\u001b[0;34m\u001b[0m\u001b[0;34m\u001b[0m\u001b[0m\n\u001b[1;32m    103\u001b[0m                 \u001b[0marr\u001b[0m\u001b[0;34m.\u001b[0m\u001b[0mappend\u001b[0m\u001b[0;34m(\u001b[0m\u001b[0mdata\u001b[0m\u001b[0;34m)\u001b[0m\u001b[0;34m\u001b[0m\u001b[0;34m\u001b[0m\u001b[0m\n",
      "\u001b[0;32m~/opt/anaconda3/lib/python3.9/site-packages/PyPDF2/generic/_base.py\u001b[0m in \u001b[0;36mclone\u001b[0;34m(self, pdf_dest, force_duplicate, ignore_fields)\u001b[0m\n\u001b[1;32m    247\u001b[0m             \u001b[0mobj\u001b[0m \u001b[0;34m=\u001b[0m \u001b[0mself\u001b[0m\u001b[0;34m.\u001b[0m\u001b[0mget_object\u001b[0m\u001b[0;34m(\u001b[0m\u001b[0;34m)\u001b[0m\u001b[0;34m\u001b[0m\u001b[0;34m\u001b[0m\u001b[0m\n\u001b[1;32m    248\u001b[0m             \u001b[0;32massert\u001b[0m \u001b[0mobj\u001b[0m \u001b[0;32mis\u001b[0m \u001b[0;32mnot\u001b[0m \u001b[0;32mNone\u001b[0m\u001b[0;34m\u001b[0m\u001b[0;34m\u001b[0m\u001b[0m\n\u001b[0;32m--> 249\u001b[0;31m             \u001b[0mdup\u001b[0m \u001b[0;34m=\u001b[0m \u001b[0mobj\u001b[0m\u001b[0;34m.\u001b[0m\u001b[0mclone\u001b[0m\u001b[0;34m(\u001b[0m\u001b[0mpdf_dest\u001b[0m\u001b[0;34m,\u001b[0m \u001b[0mforce_duplicate\u001b[0m\u001b[0;34m,\u001b[0m \u001b[0mignore_fields\u001b[0m\u001b[0;34m)\u001b[0m\u001b[0;34m\u001b[0m\u001b[0;34m\u001b[0m\u001b[0m\n\u001b[0m\u001b[1;32m    250\u001b[0m         \u001b[0;32massert\u001b[0m \u001b[0mdup\u001b[0m \u001b[0;32mis\u001b[0m \u001b[0;32mnot\u001b[0m \u001b[0;32mNone\u001b[0m\u001b[0;34m\u001b[0m\u001b[0;34m\u001b[0m\u001b[0m\n\u001b[1;32m    251\u001b[0m         \u001b[0;32massert\u001b[0m \u001b[0mdup\u001b[0m\u001b[0;34m.\u001b[0m\u001b[0mindirect_reference\u001b[0m \u001b[0;32mis\u001b[0m \u001b[0;32mnot\u001b[0m \u001b[0;32mNone\u001b[0m\u001b[0;34m\u001b[0m\u001b[0;34m\u001b[0m\u001b[0m\n",
      "\u001b[0;32m~/opt/anaconda3/lib/python3.9/site-packages/PyPDF2/generic/_data_structures.py\u001b[0m in \u001b[0;36mclone\u001b[0;34m(self, pdf_dest, force_duplicate, ignore_fields)\u001b[0m\n\u001b[1;32m    179\u001b[0m             \u001b[0mignore_fields\u001b[0m \u001b[0;34m=\u001b[0m \u001b[0;34m[\u001b[0m\u001b[0;34m]\u001b[0m\u001b[0;34m\u001b[0m\u001b[0;34m\u001b[0m\u001b[0m\n\u001b[1;32m    180\u001b[0m         \u001b[0;32mif\u001b[0m \u001b[0mlen\u001b[0m\u001b[0;34m(\u001b[0m\u001b[0md__\u001b[0m\u001b[0;34m.\u001b[0m\u001b[0mkeys\u001b[0m\u001b[0;34m(\u001b[0m\u001b[0;34m)\u001b[0m\u001b[0;34m)\u001b[0m \u001b[0;34m==\u001b[0m \u001b[0;36m0\u001b[0m\u001b[0;34m:\u001b[0m\u001b[0;34m\u001b[0m\u001b[0;34m\u001b[0m\u001b[0m\n\u001b[0;32m--> 181\u001b[0;31m             \u001b[0md__\u001b[0m\u001b[0;34m.\u001b[0m\u001b[0m_clone\u001b[0m\u001b[0;34m(\u001b[0m\u001b[0mself\u001b[0m\u001b[0;34m,\u001b[0m \u001b[0mpdf_dest\u001b[0m\u001b[0;34m,\u001b[0m \u001b[0mforce_duplicate\u001b[0m\u001b[0;34m,\u001b[0m \u001b[0mignore_fields\u001b[0m\u001b[0;34m)\u001b[0m\u001b[0;34m\u001b[0m\u001b[0;34m\u001b[0m\u001b[0m\n\u001b[0m\u001b[1;32m    182\u001b[0m         \u001b[0;32mreturn\u001b[0m \u001b[0md__\u001b[0m\u001b[0;34m\u001b[0m\u001b[0;34m\u001b[0m\u001b[0m\n\u001b[1;32m    183\u001b[0m \u001b[0;34m\u001b[0m\u001b[0m\n",
      "\u001b[0;32m~/opt/anaconda3/lib/python3.9/site-packages/PyPDF2/generic/_data_structures.py\u001b[0m in \u001b[0;36m_clone\u001b[0;34m(self, src, pdf_dest, force_duplicate, ignore_fields)\u001b[0m\n\u001b[1;32m    240\u001b[0m                 \u001b[0;32melse\u001b[0m\u001b[0;34m:\u001b[0m\u001b[0;34m\u001b[0m\u001b[0;34m\u001b[0m\u001b[0m\n\u001b[1;32m    241\u001b[0m                     \u001b[0;32mif\u001b[0m \u001b[0mk\u001b[0m \u001b[0;32mnot\u001b[0m \u001b[0;32min\u001b[0m \u001b[0mself\u001b[0m\u001b[0;34m:\u001b[0m\u001b[0;34m\u001b[0m\u001b[0;34m\u001b[0m\u001b[0m\n\u001b[0;32m--> 242\u001b[0;31m                         self[NameObject(k)] = (\n\u001b[0m\u001b[1;32m    243\u001b[0m                             \u001b[0mv\u001b[0m\u001b[0;34m.\u001b[0m\u001b[0mclone\u001b[0m\u001b[0;34m(\u001b[0m\u001b[0mpdf_dest\u001b[0m\u001b[0;34m,\u001b[0m \u001b[0mforce_duplicate\u001b[0m\u001b[0;34m,\u001b[0m \u001b[0mignore_fields\u001b[0m\u001b[0;34m)\u001b[0m\u001b[0;34m\u001b[0m\u001b[0;34m\u001b[0m\u001b[0m\n\u001b[1;32m    244\u001b[0m                             \u001b[0;32mif\u001b[0m \u001b[0mhasattr\u001b[0m\u001b[0;34m(\u001b[0m\u001b[0mv\u001b[0m\u001b[0;34m,\u001b[0m \u001b[0;34m\"clone\"\u001b[0m\u001b[0;34m)\u001b[0m\u001b[0;34m\u001b[0m\u001b[0;34m\u001b[0m\u001b[0m\n",
      "\u001b[0;32m~/opt/anaconda3/lib/python3.9/site-packages/PyPDF2/generic/_data_structures.py\u001b[0m in \u001b[0;36m__setitem__\u001b[0;34m(self, key, value)\u001b[0m\n\u001b[1;32m    253\u001b[0m             \u001b[0;32mraise\u001b[0m \u001b[0mValueError\u001b[0m\u001b[0;34m(\u001b[0m\u001b[0;34m\"key must be PdfObject\"\u001b[0m\u001b[0;34m)\u001b[0m\u001b[0;34m\u001b[0m\u001b[0;34m\u001b[0m\u001b[0m\n\u001b[1;32m    254\u001b[0m         \u001b[0;32mif\u001b[0m \u001b[0;32mnot\u001b[0m \u001b[0misinstance\u001b[0m\u001b[0;34m(\u001b[0m\u001b[0mvalue\u001b[0m\u001b[0;34m,\u001b[0m \u001b[0mPdfObject\u001b[0m\u001b[0;34m)\u001b[0m\u001b[0;34m:\u001b[0m\u001b[0;34m\u001b[0m\u001b[0;34m\u001b[0m\u001b[0m\n\u001b[0;32m--> 255\u001b[0;31m             \u001b[0;32mraise\u001b[0m \u001b[0mValueError\u001b[0m\u001b[0;34m(\u001b[0m\u001b[0;34m\"value must be PdfObject\"\u001b[0m\u001b[0;34m)\u001b[0m\u001b[0;34m\u001b[0m\u001b[0;34m\u001b[0m\u001b[0m\n\u001b[0m\u001b[1;32m    256\u001b[0m         \u001b[0;32mreturn\u001b[0m \u001b[0mdict\u001b[0m\u001b[0;34m.\u001b[0m\u001b[0m__setitem__\u001b[0m\u001b[0;34m(\u001b[0m\u001b[0mself\u001b[0m\u001b[0;34m,\u001b[0m \u001b[0mkey\u001b[0m\u001b[0;34m,\u001b[0m \u001b[0mvalue\u001b[0m\u001b[0;34m)\u001b[0m\u001b[0;34m\u001b[0m\u001b[0;34m\u001b[0m\u001b[0m\n\u001b[1;32m    257\u001b[0m \u001b[0;34m\u001b[0m\u001b[0m\n",
      "\u001b[0;31mValueError\u001b[0m: value must be PdfObject"
     ]
    }
   ],
   "source": [
    "import PyPDF2\n",
    "\n",
    "# Remplacez ces valeurs par vos propres chemins de fichiers et valeurs\n",
    "pdf_source_path = \"docs/TROD-ANGINE_Fiche_tracabilite_pharmacien.pdf\"\n",
    "pdf_destination_path = \"votre_pdf_rempli.pdf\"\n",
    "nom_variable = \"Contenu du champ à insérer\"\n",
    "\n",
    "# Ouvrir le PDF source en mode lecture binaire\n",
    "with open(pdf_source_path, \"rb\") as pdf_source:\n",
    "    pdf_reader = PyPDF2.PdfReader(pdf_source)\n",
    "\n",
    "    # Créer un écrivain PDF\n",
    "    pdf_writer = PyPDF2.PdfWriter()\n",
    "\n",
    "    # Parcourir chaque page du PDF source\n",
    "    for page_num in range(len(pdf_reader.pages)):\n",
    "        page = pdf_reader.pages[page_num]\n",
    "\n",
    "        # Parcourir les annotations de la page\n",
    "        if '/Annots' in page:\n",
    "            for annotation_ref in page['/Annots']:\n",
    "                annotation = annotation_ref.get_object()\n",
    "                if annotation.get('/Subtype') == '/Widget':\n",
    "                    if annotation.get('/T'):\n",
    "                        field_name = annotation['/T'].replace('/', '')  # Obtenez le nom du champ\n",
    "                        if field_name == \"Champ de texte 16\":  # Remplacez \"Nom\" par le nom du champ de votre PDF\n",
    "                            annotation.update({\n",
    "                                '/V': nom_variable  # Remplacez la valeur du champ par votre variable Python\n",
    "                            })\n",
    "\n",
    "        pdf_writer.add_page(page)\n",
    "\n",
    "    # Enregistrez le PDF modifié dans un nouveau fichier\n",
    "    with open(pdf_destination_path, \"wb\") as pdf_output:\n",
    "        pdf_writer.write(pdf_output)\n"
   ]
  },
  {
   "cell_type": "code",
   "execution_count": 50,
   "id": "17e0f72f",
   "metadata": {},
   "outputs": [
    {
     "ename": "AttributeError",
     "evalue": "'Page' object has no attribute 'fields'",
     "output_type": "error",
     "traceback": [
      "\u001b[0;31m---------------------------------------------------------------------------\u001b[0m",
      "\u001b[0;31mAttributeError\u001b[0m                            Traceback (most recent call last)",
      "\u001b[0;32m/var/folders/lj/tfygmqcs4fv1v6yhgm9mj62w0000gn/T/ipykernel_1948/3041774941.py\u001b[0m in \u001b[0;36m<module>\u001b[0;34m\u001b[0m\n\u001b[1;32m     14\u001b[0m \u001b[0;34m\u001b[0m\u001b[0m\n\u001b[1;32m     15\u001b[0m     \u001b[0;31m# Accéder aux champs de formulaire de la page\u001b[0m\u001b[0;34m\u001b[0m\u001b[0;34m\u001b[0m\u001b[0m\n\u001b[0;32m---> 16\u001b[0;31m     \u001b[0;32mfor\u001b[0m \u001b[0mfield\u001b[0m \u001b[0;32min\u001b[0m \u001b[0mpage\u001b[0m\u001b[0;34m.\u001b[0m\u001b[0mfields\u001b[0m\u001b[0;34m:\u001b[0m\u001b[0;34m\u001b[0m\u001b[0;34m\u001b[0m\u001b[0m\n\u001b[0m\u001b[1;32m     17\u001b[0m         \u001b[0mfield_name\u001b[0m \u001b[0;34m=\u001b[0m \u001b[0mfield\u001b[0m\u001b[0;34m.\u001b[0m\u001b[0mget\u001b[0m\u001b[0;34m(\u001b[0m\u001b[0;34m\"title\"\u001b[0m\u001b[0;34m,\u001b[0m \u001b[0;34m\"\"\u001b[0m\u001b[0;34m)\u001b[0m\u001b[0;34m\u001b[0m\u001b[0;34m\u001b[0m\u001b[0m\n\u001b[1;32m     18\u001b[0m         \u001b[0;32mif\u001b[0m \u001b[0mfield_name\u001b[0m \u001b[0;34m==\u001b[0m \u001b[0;34m\"Champ de texte 16\"\u001b[0m\u001b[0;34m:\u001b[0m  \u001b[0;31m# Remplacez \"Nom\" par le nom du champ de votre PDF\u001b[0m\u001b[0;34m\u001b[0m\u001b[0;34m\u001b[0m\u001b[0m\n",
      "\u001b[0;31mAttributeError\u001b[0m: 'Page' object has no attribute 'fields'"
     ]
    }
   ],
   "source": [
    "import fitz  # Assurez-vous d'avoir installé PyMuPDF (pip install PyMuPDF)\n",
    "\n",
    "# Remplacez ces valeurs par vos propres chemins de fichiers et valeurs\n",
    "pdf_source_path = \"docs/TROD-ANGINE_Fiche_tracabilite_pharmacien.pdf\"\n",
    "pdf_destination_path = \"votre_pdf_rempli.pdf\"\n",
    "nom_variable = \"Contenu du champ à insérer\"\n",
    "\n",
    "# Ouvrir le PDF source\n",
    "pdf_document = fitz.open(pdf_source_path)\n",
    "\n",
    "# Parcourir chaque page du PDF source\n",
    "for page_num in range(pdf_document.page_count):\n",
    "    page = pdf_document.load_page(page_num)\n",
    "\n",
    "    # Accéder aux champs de formulaire de la page\n",
    "    for field in page.fields:\n",
    "        field_name = field.get(\"title\", \"\")\n",
    "        if field_name == \"Champ de texte 16\":  # Remplacez \"Nom\" par le nom du champ de votre PDF\n",
    "            field.set_value(nom_variable)  # Remplacez la valeur du champ par votre variable Python\n",
    "\n",
    "# Enregistrez le PDF modifié dans un nouveau fichier\n",
    "pdf_document.save(pdf_destination_path)\n",
    "pdf_document.close()\n"
   ]
  },
  {
   "cell_type": "code",
   "execution_count": 49,
   "id": "2c38fb52",
   "metadata": {},
   "outputs": [
    {
     "ename": "AttributeError",
     "evalue": "module 'fitz' has no attribute 'TextWidget'",
     "output_type": "error",
     "traceback": [
      "\u001b[0;31m---------------------------------------------------------------------------\u001b[0m",
      "\u001b[0;31mAttributeError\u001b[0m                            Traceback (most recent call last)",
      "\u001b[0;32m/var/folders/lj/tfygmqcs4fv1v6yhgm9mj62w0000gn/T/ipykernel_1948/1151822690.py\u001b[0m in \u001b[0;36m<module>\u001b[0;34m\u001b[0m\n\u001b[0;32m----> 1\u001b[0;31m \u001b[0mfitz\u001b[0m\u001b[0;34m.\u001b[0m\u001b[0mTextWidget\u001b[0m\u001b[0;34m\u001b[0m\u001b[0;34m\u001b[0m\u001b[0m\n\u001b[0m",
      "\u001b[0;31mAttributeError\u001b[0m: module 'fitz' has no attribute 'TextWidget'"
     ]
    }
   ],
   "source": [
    "fitz.TextWriter"
   ]
  },
  {
   "cell_type": "code",
   "execution_count": null,
   "id": "8610cbfb",
   "metadata": {},
   "outputs": [],
   "source": []
  }
 ],
 "metadata": {
  "kernelspec": {
   "display_name": "Python 3 (ipykernel)",
   "language": "python",
   "name": "python3"
  },
  "language_info": {
   "codemirror_mode": {
    "name": "ipython",
    "version": 3
   },
   "file_extension": ".py",
   "mimetype": "text/x-python",
   "name": "python",
   "nbconvert_exporter": "python",
   "pygments_lexer": "ipython3",
   "version": "3.9.7"
  }
 },
 "nbformat": 4,
 "nbformat_minor": 5
}
