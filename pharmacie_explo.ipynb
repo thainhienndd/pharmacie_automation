{
 "cells": [
  {
   "cell_type": "code",
   "execution_count": 3,
   "id": "a2431efb",
   "metadata": {},
   "outputs": [
    {
     "name": "stdout",
     "output_type": "stream",
     "text": [
      "IndirectObject(12, 0, 140425055846352)\n"
     ]
    },
    {
     "ename": "AttributeError",
     "evalue": "'IndirectObject' object has no attribute 'get'",
     "output_type": "error",
     "traceback": [
      "\u001b[0;31m---------------------------------------------------------------------------\u001b[0m",
      "\u001b[0;31mAttributeError\u001b[0m                            Traceback (most recent call last)",
      "\u001b[0;32m/var/folders/lj/tfygmqcs4fv1v6yhgm9mj62w0000gn/T/ipykernel_10811/1256867928.py\u001b[0m in \u001b[0;36m<module>\u001b[0;34m\u001b[0m\n\u001b[1;32m     15\u001b[0m             \u001b[0;32mfor\u001b[0m \u001b[0mannotation\u001b[0m \u001b[0;32min\u001b[0m \u001b[0mpage\u001b[0m\u001b[0;34m[\u001b[0m\u001b[0;34m'/Annots'\u001b[0m\u001b[0;34m]\u001b[0m\u001b[0;34m:\u001b[0m\u001b[0;34m\u001b[0m\u001b[0;34m\u001b[0m\u001b[0m\n\u001b[1;32m     16\u001b[0m                 \u001b[0mprint\u001b[0m\u001b[0;34m(\u001b[0m\u001b[0mannotation\u001b[0m\u001b[0;34m)\u001b[0m\u001b[0;34m\u001b[0m\u001b[0;34m\u001b[0m\u001b[0m\n\u001b[0;32m---> 17\u001b[0;31m                 \u001b[0;32mif\u001b[0m \u001b[0mannotation\u001b[0m\u001b[0;34m.\u001b[0m\u001b[0mget\u001b[0m\u001b[0;34m(\u001b[0m\u001b[0;34m'/T'\u001b[0m\u001b[0;34m)\u001b[0m \u001b[0;34m==\u001b[0m \u001b[0;34m'/Text1'\u001b[0m\u001b[0;34m:\u001b[0m  \u001b[0;31m# Remplacez '/Nom' par le nom du champ dans votre PDF\u001b[0m\u001b[0;34m\u001b[0m\u001b[0;34m\u001b[0m\u001b[0m\n\u001b[0m\u001b[1;32m     18\u001b[0m                     annotation.update({\n\u001b[1;32m     19\u001b[0m                         \u001b[0mPyPDF2\u001b[0m\u001b[0;34m.\u001b[0m\u001b[0mPdfName\u001b[0m\u001b[0;34m(\u001b[0m\u001b[0;34m'/V'\u001b[0m\u001b[0;34m)\u001b[0m\u001b[0;34m:\u001b[0m \u001b[0mPyPDF2\u001b[0m\u001b[0;34m.\u001b[0m\u001b[0mPdfObject\u001b[0m\u001b[0;34m(\u001b[0m\u001b[0mNom\u001b[0m\u001b[0;34m)\u001b[0m  \u001b[0;31m# Remplacez 'Nom' par votre valeur\u001b[0m\u001b[0;34m\u001b[0m\u001b[0;34m\u001b[0m\u001b[0m\n",
      "\u001b[0;31mAttributeError\u001b[0m: 'IndirectObject' object has no attribute 'get'"
     ]
    }
   ],
   "source": [
    "import PyPDF2\n",
    "\n",
    "Nom = 'caca'\n",
    "# Ouvrir le PDF source\n",
    "with open(\"docs/TROD_angine_custom.pdf\", \"rb\") as pdf_source:\n",
    "    pdf_reader = PyPDF2.PdfReader(pdf_source)\n",
    "    pdf_writer = PyPDF2.PdfWriter()\n",
    "\n",
    "    # Copier chaque page du PDF source dans le PDF de destination\n",
    "    for page_num in range(len(pdf_reader.pages)):\n",
    "        page = pdf_reader.pages[page_num]\n",
    "        \n",
    "        # Modifier le champ de formulaire 'Nom' avec votre valeur\n",
    "        if '/Annots' in page:\n",
    "            for annotation in page['/Annots']:\n",
    "                print(annotation)\n",
    "                if annotation.get('/T') == '/Text1':  # Remplacez '/Nom' par le nom du champ dans votre PDF\n",
    "                    annotation.update({\n",
    "                        PyPDF2.PdfName('/V'): PyPDF2.PdfObject(Nom)  # Remplacez 'Nom' par votre valeur\n",
    "                    })\n",
    "        \n",
    "        pdf_writer.add_page(page)\n",
    "\n",
    "    # Écrire le PDF final dans un nouveau fichier\n",
    "    #with open(\"votre_pdf_rempli.pdf\", \"wb\") as pdf_output:\n",
    "        #pdf_writer.write(pdf_output)\n"
   ]
  },
  {
   "cell_type": "code",
   "execution_count": 84,
   "id": "ed3af127",
   "metadata": {},
   "outputs": [
    {
     "name": "stdout",
     "output_type": "stream",
     "text": [
      "{'Text1': None, 'Text2': '', 'Text3': None, 'Text4': None, 'Text5': None, 'Text6': None, 'Text7': None, 'Text8': None, 'Text9': None, 'Text10': None, 'Text11': None, 'Text12': None, 'Text13': None, 'Text14': None, 'Text15': None, 'Text16': None, 'Text17': None, 'Text18': '', 'Text19': None, 'Text20': None, 'Text21': None, 'Text22': None, 'Text38': None, 'Text39': None, 'Text40': None}\n",
      "{}\n"
     ]
    }
   ],
   "source": [
    "import PyPDF2\n",
    "with open(\"docs/TROD_angine_custom.pdf\", \"rb\") as pdf_source:\n",
    "    pdf_reader = PyPDF2.PdfReader(pdf_source)\n",
    "    \n",
    "    pdf_writer = PyPDF2.PdfWriter()\n",
    "    # Obtenir le formulaire PDF\n",
    "    pdf_form = pdf_reader.get_form_text_fields()\n",
    "    pdf_writer.add_page(pdf_reader.pages[0])\n",
    "    pdf_writer.append_pages_from_reader(pdf_reader, pdf_reader.pages[0])\n",
    "    print(pdf_form)\n",
    "\n",
    "    \n",
    "# Mise à jour des champs\n",
    "pdf_writer.update_page_form_field_values(pdf_writer.pages[0], {\n",
    "    'Text1': {'/T': 'Text1', '/FT': 'test'},\n",
    "    'Text2': 'thainhien',\n",
    "    'Text3': 'Coucou',\n",
    "    'Text4': 'Hello',\n",
    "    'Text12': 'Hola',\n",
    "    'Text18': 'aaaaaaaaaaaaaa'\n",
    "})\n",
    "    \n",
    "with open('votre_pdf_rempli.pdf', 'wb') as updated_pdf:\n",
    "    pdf_writer.write(updated_pdf)\n",
    "\n",
    "with open(\"votre_pdf_rempli.pdf\", \"rb\") as pdf_source:\n",
    "    pdf_reader = PyPDF2.PdfReader(pdf_source)\n",
    "    print(pdf_reader.get_form_text_fields())"
   ]
  },
  {
   "cell_type": "code",
   "execution_count": 58,
   "id": "02b23b64",
   "metadata": {},
   "outputs": [],
   "source": [
    "import PyPDF2\n",
    "\n",
    "with open(\"docs/TROD_angine_custom.pdf\", \"rb\") as pdf_source:\n",
    "    pdf_reader = PyPDF2.PdfReader(pdf_source)\n",
    "    \n",
    "    pdf_writer = PyPDF2.PdfWriter()\n",
    "\n",
    "    # Créez une nouvelle page vide\n",
    "    pdf_writer.add_page(pdf_reader.pages[0])\n",
    "\n",
    "    # Mise à jour des champs\n",
    "    pdf_writer.update_page_form_field_values(pdf_writer.pages[0], {\n",
    "        'Text1': 'Nouvelle valeur 1',\n",
    "        'Text2': 'Nouvelle valeur 2',\n",
    "        'Text3': 'Coucou',\n",
    "        'Text4': 'Hello',\n",
    "        'Text12': 'Hola',\n",
    "        'Text19': 'Que tal'\n",
    "    })\n",
    "    \n",
    "    with open('votre_pdf_rempli.pdf', 'wb') as updated_pdf:\n",
    "        pdf_writer.write(updated_pdf)\n"
   ]
  },
  {
   "cell_type": "code",
   "execution_count": null,
   "id": "de4bd828",
   "metadata": {},
   "outputs": [],
   "source": []
  }
 ],
 "metadata": {
  "kernelspec": {
   "display_name": "Python 3 (ipykernel)",
   "language": "python",
   "name": "python3"
  },
  "language_info": {
   "codemirror_mode": {
    "name": "ipython",
    "version": 3
   },
   "file_extension": ".py",
   "mimetype": "text/x-python",
   "name": "python",
   "nbconvert_exporter": "python",
   "pygments_lexer": "ipython3",
   "version": "3.9.7"
  }
 },
 "nbformat": 4,
 "nbformat_minor": 5
}
